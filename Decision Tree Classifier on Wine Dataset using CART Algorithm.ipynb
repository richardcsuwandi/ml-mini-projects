{
  "nbformat": 4,
  "nbformat_minor": 0,
  "metadata": {
    "kernelspec": {
      "display_name": "Python 3.7.4 64-bit ('base': conda)",
      "language": "python",
      "name": "python37464bitbasecondae4d1925b83da41c78817766fdb596e37"
    },
    "language_info": {
      "codemirror_mode": {
        "name": "ipython",
        "version": 3
      },
      "file_extension": ".py",
      "mimetype": "text/x-python",
      "name": "python",
      "nbconvert_exporter": "python",
      "pygments_lexer": "ipython3",
      "version": "3.7.7-final"
    },
    "colab": {
      "name": "Decision Tree Classifier on Wine Dataset using CART Algorithm.ipynb",
      "provenance": [],
      "toc_visible": true
    }
  },
  "cells": [
    {
      "cell_type": "markdown",
      "metadata": {
        "id": "5qCv1a3QSrgv",
        "colab_type": "text"
      },
      "source": [
        "## Decision Tree Classifier on Wine Dataset using CART Algorithm\n",
        "This project is one of my Machine Learning mini projects. For this project, we have a [wine](https://github.com/richardcsuwandi/datasets/blob/master/wine.csv) dataset that contains the quality of the wine along with different categories affecting its quality. The categories in the dataset, includes:\n",
        "\n",
        "1. fixed acidity: most acids involved with wine or fixed or nonvolatile (do not evaporate readily)\n",
        "2. volatile acidity: the amount of acetic acid in wine, which at too high of levels can lead to an unpleasant, vinegar taste\n",
        "3. citric acid: found in small quantities, citric acid can add 'freshness' and flavor to wines\n",
        "4. residual sugar: the amount of sugar remaining after fermentation stops, it's rare to find wines with less than 1 gram/liter and wines with greater than 45 grams/liter are considered sweet\n",
        "5. chlorides: the amount of salt in the wine\n",
        "6. free sulfur dioxide: the free form of SO2 exists in equilibrium between molecular SO2 (as a dissolved gas) and bisulfite ion; it prevents microbial growth and the oxidation of wine\n",
        "7. total sulfur dioxide: amount of free and bound forms of S02; in low concentrations, SO2 is mostly undetectable in wine, but at free SO2 concentrations over 50 ppm, SO2 becomes evident in the nose and taste of wine\n",
        "8. density: the density of water is close to that of water depending on the percent alcohol and sugar content\n",
        "9. pH: describes how acidic or basic a wine is on a scale from 0 (very acidic) to 14 (very basic); most wines are between 3-4 on the pH scale\n",
        "10. sulphates: a wine additive which can contribute to sulfur dioxide gas (S02) levels, wich acts as an antimicrobial and antioxidant\n",
        "11. alcohol: the percent alcohol content of the wine\n",
        "12. quality: output variable (based on sensory data, score between 0 and 10)\n",
        "\n",
        "The goal of this project is to create a Decision Tree Classifier model to classify whether the quality of the wine is above 6 or not using the CART algorithm."
      ]
    },
    {
      "cell_type": "code",
      "metadata": {
        "id": "-EL9UIBWSrgx",
        "colab_type": "code",
        "colab": {}
      },
      "source": [
        "# Importing the libraries\n",
        "import numpy as np\n",
        "import pandas as pd\n",
        "from sklearn.model_selection import train_test_split\n",
        "from sklearn.tree import DecisionTreeClassifier\n",
        "from sklearn.metrics import accuracy_score, confusion_matrix, classification_report"
      ],
      "execution_count": null,
      "outputs": []
    },
    {
      "cell_type": "markdown",
      "metadata": {
        "id": "uZ6c9OsqSrg1",
        "colab_type": "text"
      },
      "source": [
        "## Loading the Data"
      ]
    },
    {
      "cell_type": "code",
      "metadata": {
        "id": "_wbjC-WeSrg2",
        "colab_type": "code",
        "colab": {
          "base_uri": "https://localhost:8080/",
          "height": 237
        },
        "outputId": "05632912-a7cf-45fd-c23a-7100092a86dd"
      },
      "source": [
        "wine = pd.read_csv('wine.csv', sep=', ', engine='python')  # The data is seperated by ', '\n",
        "wine.head()"
      ],
      "execution_count": null,
      "outputs": [
        {
          "output_type": "execute_result",
          "data": {
            "text/html": [
              "<div>\n",
              "<style scoped>\n",
              "    .dataframe tbody tr th:only-of-type {\n",
              "        vertical-align: middle;\n",
              "    }\n",
              "\n",
              "    .dataframe tbody tr th {\n",
              "        vertical-align: top;\n",
              "    }\n",
              "\n",
              "    .dataframe thead th {\n",
              "        text-align: right;\n",
              "    }\n",
              "</style>\n",
              "<table border=\"1\" class=\"dataframe\">\n",
              "  <thead>\n",
              "    <tr style=\"text-align: right;\">\n",
              "      <th></th>\n",
              "      <th>fixed acidity</th>\n",
              "      <th>volatile acidity</th>\n",
              "      <th>citric acid</th>\n",
              "      <th>residual sugar</th>\n",
              "      <th>chlorides</th>\n",
              "      <th>free sulfur dioxide</th>\n",
              "      <th>total sulfur dioxide</th>\n",
              "      <th>density</th>\n",
              "      <th>pH</th>\n",
              "      <th>sulphates</th>\n",
              "      <th>alcohol</th>\n",
              "      <th>quality</th>\n",
              "    </tr>\n",
              "  </thead>\n",
              "  <tbody>\n",
              "    <tr>\n",
              "      <th>0</th>\n",
              "      <td>6.2</td>\n",
              "      <td>0.56</td>\n",
              "      <td>0.09</td>\n",
              "      <td>1.7</td>\n",
              "      <td>0.053</td>\n",
              "      <td>24.0</td>\n",
              "      <td>32.0</td>\n",
              "      <td>0.99402</td>\n",
              "      <td>3.54</td>\n",
              "      <td>0.60</td>\n",
              "      <td>11.3</td>\n",
              "      <td>5</td>\n",
              "    </tr>\n",
              "    <tr>\n",
              "      <th>1</th>\n",
              "      <td>11.3</td>\n",
              "      <td>0.34</td>\n",
              "      <td>0.45</td>\n",
              "      <td>2.0</td>\n",
              "      <td>0.082</td>\n",
              "      <td>6.0</td>\n",
              "      <td>15.0</td>\n",
              "      <td>0.99880</td>\n",
              "      <td>2.94</td>\n",
              "      <td>0.66</td>\n",
              "      <td>9.2</td>\n",
              "      <td>6</td>\n",
              "    </tr>\n",
              "    <tr>\n",
              "      <th>2</th>\n",
              "      <td>8.6</td>\n",
              "      <td>0.42</td>\n",
              "      <td>0.39</td>\n",
              "      <td>1.8</td>\n",
              "      <td>0.068</td>\n",
              "      <td>6.0</td>\n",
              "      <td>12.0</td>\n",
              "      <td>0.99516</td>\n",
              "      <td>3.35</td>\n",
              "      <td>0.69</td>\n",
              "      <td>11.7</td>\n",
              "      <td>8</td>\n",
              "    </tr>\n",
              "    <tr>\n",
              "      <th>3</th>\n",
              "      <td>8.5</td>\n",
              "      <td>0.28</td>\n",
              "      <td>0.35</td>\n",
              "      <td>1.7</td>\n",
              "      <td>0.061</td>\n",
              "      <td>6.0</td>\n",
              "      <td>15.0</td>\n",
              "      <td>0.99524</td>\n",
              "      <td>3.30</td>\n",
              "      <td>0.74</td>\n",
              "      <td>11.8</td>\n",
              "      <td>7</td>\n",
              "    </tr>\n",
              "    <tr>\n",
              "      <th>4</th>\n",
              "      <td>7.7</td>\n",
              "      <td>0.23</td>\n",
              "      <td>0.37</td>\n",
              "      <td>1.8</td>\n",
              "      <td>0.046</td>\n",
              "      <td>23.0</td>\n",
              "      <td>60.0</td>\n",
              "      <td>0.99710</td>\n",
              "      <td>3.41</td>\n",
              "      <td>0.71</td>\n",
              "      <td>12.1</td>\n",
              "      <td>6</td>\n",
              "    </tr>\n",
              "  </tbody>\n",
              "</table>\n",
              "</div>"
            ],
            "text/plain": [
              "   fixed acidity  volatile acidity  citric acid  ...  sulphates  alcohol  quality\n",
              "0            6.2              0.56         0.09  ...       0.60     11.3        5\n",
              "1           11.3              0.34         0.45  ...       0.66      9.2        6\n",
              "2            8.6              0.42         0.39  ...       0.69     11.7        8\n",
              "3            8.5              0.28         0.35  ...       0.74     11.8        7\n",
              "4            7.7              0.23         0.37  ...       0.71     12.1        6\n",
              "\n",
              "[5 rows x 12 columns]"
            ]
          },
          "metadata": {
            "tags": []
          },
          "execution_count": 11
        }
      ]
    },
    {
      "cell_type": "markdown",
      "metadata": {
        "id": "NpEcluyASrg6",
        "colab_type": "text"
      },
      "source": [
        "## Preprocessing the Data\n",
        "Since we are only interested in the quality of wine above 6 and otherwise, we can convert the values of the quality above 6 to 1 and otherwise to 0."
      ]
    },
    {
      "cell_type": "code",
      "metadata": {
        "id": "bhTCGcT-Srg7",
        "colab_type": "code",
        "colab": {
          "base_uri": "https://localhost:8080/",
          "height": 121
        },
        "outputId": "621067fa-57e0-4440-ac4d-0c643b22f103"
      },
      "source": [
        "wine['quality'] = wine['quality'].apply(lambda x: 1 if x > 6 else 0)\n",
        "wine['quality'].head()"
      ],
      "execution_count": null,
      "outputs": [
        {
          "output_type": "execute_result",
          "data": {
            "text/plain": [
              "0    0\n",
              "1    0\n",
              "2    1\n",
              "3    1\n",
              "4    0\n",
              "Name: quality, dtype: int64"
            ]
          },
          "metadata": {
            "tags": []
          },
          "execution_count": 12
        }
      ]
    },
    {
      "cell_type": "markdown",
      "metadata": {
        "id": "-gf2lI95Srg_",
        "colab_type": "text"
      },
      "source": [
        "## Building the Model\n",
        "Finally, we can build our Decision Tree Classifier model from the wine dataset"
      ]
    },
    {
      "cell_type": "code",
      "metadata": {
        "id": "tLUaj-rHSrhA",
        "colab_type": "code",
        "colab": {}
      },
      "source": [
        "# Declaring the features and the label\n",
        "features = wine.drop('quality', axis=1)\n",
        "label = wine['quality']"
      ],
      "execution_count": null,
      "outputs": []
    },
    {
      "cell_type": "code",
      "metadata": {
        "id": "zjBGhB0tSrhE",
        "colab_type": "code",
        "colab": {}
      },
      "source": [
        "# Split the data between training and test sets, in a 80:20 ratio\n",
        "X_train, X_test, y_train, y_test = train_test_split(features, label, test_size=0.2, random_state=1)"
      ],
      "execution_count": null,
      "outputs": []
    },
    {
      "cell_type": "code",
      "metadata": {
        "id": "2gV0CHnpSrhI",
        "colab_type": "code",
        "colab": {
          "base_uri": "https://localhost:8080/",
          "height": 121
        },
        "outputId": "f49a47c7-902f-4f72-fec8-c5ddd4125615"
      },
      "source": [
        "# Build and fit the model\n",
        "clf = DecisionTreeClassifier(random_state=1)\n",
        "clf.fit(X_train, y_train)"
      ],
      "execution_count": null,
      "outputs": [
        {
          "output_type": "execute_result",
          "data": {
            "text/plain": [
              "DecisionTreeClassifier(ccp_alpha=0.0, class_weight=None, criterion='gini',\n",
              "                       max_depth=None, max_features=None, max_leaf_nodes=None,\n",
              "                       min_impurity_decrease=0.0, min_impurity_split=None,\n",
              "                       min_samples_leaf=1, min_samples_split=2,\n",
              "                       min_weight_fraction_leaf=0.0, presort='deprecated',\n",
              "                       random_state=1, splitter='best')"
            ]
          },
          "metadata": {
            "tags": []
          },
          "execution_count": 165
        }
      ]
    },
    {
      "cell_type": "markdown",
      "metadata": {
        "id": "4hU4FYRYSrhN",
        "colab_type": "text"
      },
      "source": [
        "## Predictions and Evaluations"
      ]
    },
    {
      "cell_type": "code",
      "metadata": {
        "id": "G5vTYwvzSrhO",
        "colab_type": "code",
        "colab": {}
      },
      "source": [
        "# Making predictions\n",
        "pred = clf.predict(X_test)"
      ],
      "execution_count": null,
      "outputs": []
    },
    {
      "cell_type": "code",
      "metadata": {
        "id": "i6cA-ZRISrhT",
        "colab_type": "code",
        "colab": {
          "base_uri": "https://localhost:8080/",
          "height": 35
        },
        "outputId": "85dc407e-17d4-4465-d5bf-01e867749919"
      },
      "source": [
        "# Measuring the accuracy of the model\n",
        "acc = accuracy_score(y_test, pred)\n",
        "acc"
      ],
      "execution_count": null,
      "outputs": [
        {
          "output_type": "execute_result",
          "data": {
            "text/plain": [
              "0.875"
            ]
          },
          "metadata": {
            "tags": []
          },
          "execution_count": 167
        }
      ]
    },
    {
      "cell_type": "code",
      "metadata": {
        "id": "qAGNnyFtSrhX",
        "colab_type": "code",
        "colab": {
          "base_uri": "https://localhost:8080/",
          "height": 110
        },
        "outputId": "95e4a0c5-2b70-4b7e-e5a0-c2e2ab823c44"
      },
      "source": [
        "# Create a Confusion Matrix\n",
        "matrix = pd.DataFrame(\n",
        "        confusion_matrix(y_test, pred),\n",
        "        columns=['Predicted 0', 'Predicted 1'],\n",
        "        index=['Actual 0', 'Actual 1'])\n",
        "matrix"
      ],
      "execution_count": null,
      "outputs": [
        {
          "output_type": "execute_result",
          "data": {
            "text/html": [
              "<div>\n",
              "<style scoped>\n",
              "    .dataframe tbody tr th:only-of-type {\n",
              "        vertical-align: middle;\n",
              "    }\n",
              "\n",
              "    .dataframe tbody tr th {\n",
              "        vertical-align: top;\n",
              "    }\n",
              "\n",
              "    .dataframe thead th {\n",
              "        text-align: right;\n",
              "    }\n",
              "</style>\n",
              "<table border=\"1\" class=\"dataframe\">\n",
              "  <thead>\n",
              "    <tr style=\"text-align: right;\">\n",
              "      <th></th>\n",
              "      <th>Predicted 0</th>\n",
              "      <th>Predicted 1</th>\n",
              "    </tr>\n",
              "  </thead>\n",
              "  <tbody>\n",
              "    <tr>\n",
              "      <th>Actual 0</th>\n",
              "      <td>170</td>\n",
              "      <td>12</td>\n",
              "    </tr>\n",
              "    <tr>\n",
              "      <th>Actual 1</th>\n",
              "      <td>16</td>\n",
              "      <td>26</td>\n",
              "    </tr>\n",
              "  </tbody>\n",
              "</table>\n",
              "</div>"
            ],
            "text/plain": [
              "          Predicted 0  Predicted 1\n",
              "Actual 0          170           12\n",
              "Actual 1           16           26"
            ]
          },
          "metadata": {
            "tags": []
          },
          "execution_count": 168
        }
      ]
    },
    {
      "cell_type": "code",
      "metadata": {
        "id": "YvYJwtssSrhb",
        "colab_type": "code",
        "colab": {
          "base_uri": "https://localhost:8080/",
          "height": 173
        },
        "outputId": "392e84ff-e79f-454a-fc76-858dacc5c26c"
      },
      "source": [
        "# Create a classification report\n",
        "print(classification_report(y_test,pred))"
      ],
      "execution_count": null,
      "outputs": [
        {
          "output_type": "stream",
          "text": [
            "              precision    recall  f1-score   support\n",
            "\n",
            "           0       0.91      0.93      0.92       182\n",
            "           1       0.68      0.62      0.65        42\n",
            "\n",
            "    accuracy                           0.88       224\n",
            "   macro avg       0.80      0.78      0.79       224\n",
            "weighted avg       0.87      0.88      0.87       224\n",
            "\n"
          ],
          "name": "stdout"
        }
      ]
    },
    {
      "cell_type": "markdown",
      "metadata": {
        "id": "Y9UqF8ueSrhg",
        "colab_type": "text"
      },
      "source": [
        "Based on the results above, it seems like our model did pretty well but there is still a risk of overfitting. Hence, we can try and improve the results by tuning the hyperparameters of the classifier."
      ]
    },
    {
      "cell_type": "markdown",
      "metadata": {
        "id": "dHA7qVYESrhi",
        "colab_type": "text"
      },
      "source": [
        "## Hyperparameter Tuning\n",
        "Here, we are going to tune the hyperparameters of our Decision Tree Classifier model. The hyperparameters that we will tune includes `max_features` and the `max_depth`."
      ]
    },
    {
      "cell_type": "code",
      "metadata": {
        "id": "-G0fu-Z3Srhj",
        "colab_type": "code",
        "colab": {}
      },
      "source": [
        "from sklearn.model_selection import GridSearchCV\n",
        "\n",
        "# The max features range will be from 1 to 11\n",
        "max_features_range = np.arange(1,12,1)\n",
        "\n",
        "# The max depth range will be from 1 to 100\n",
        "max_depth_range = np.arange(1,101,1)\n",
        "\n",
        "# Create a dictionary for the parameter grid\n",
        "param_grid = dict(max_features = max_features_range, max_depth = max_depth_range)"
      ],
      "execution_count": null,
      "outputs": []
    },
    {
      "cell_type": "code",
      "metadata": {
        "id": "CMJTZX0xUijt",
        "colab_type": "code",
        "colab": {
          "base_uri": "https://localhost:8080/",
          "height": 416
        },
        "outputId": "e4702735-9cc8-4954-c8aa-6b67cf2f5994"
      },
      "source": [
        "# Build and fit the grid object with 5 cross-validation splits\n",
        "clf = DecisionTreeClassifier(random_state=42)\n",
        "grid = GridSearchCV(clf, param_grid = param_grid, cv=5)\n",
        "grid.fit(X_train, y_train)"
      ],
      "execution_count": null,
      "outputs": [
        {
          "output_type": "execute_result",
          "data": {
            "text/plain": [
              "GridSearchCV(cv=5, error_score=nan,\n",
              "             estimator=DecisionTreeClassifier(ccp_alpha=0.0, class_weight=None,\n",
              "                                              criterion='gini', max_depth=None,\n",
              "                                              max_features=None,\n",
              "                                              max_leaf_nodes=None,\n",
              "                                              min_impurity_decrease=0.0,\n",
              "                                              min_impurity_split=None,\n",
              "                                              min_samples_leaf=1,\n",
              "                                              min_samples_split=2,\n",
              "                                              min_weight_fraction_leaf=0.0,\n",
              "                                              presort='deprecated',\n",
              "                                              random_state=42,\n",
              "                                              splitter='best'),\n",
              "             iid='depr...\n",
              "        27,  28,  29,  30,  31,  32,  33,  34,  35,  36,  37,  38,  39,\n",
              "        40,  41,  42,  43,  44,  45,  46,  47,  48,  49,  50,  51,  52,\n",
              "        53,  54,  55,  56,  57,  58,  59,  60,  61,  62,  63,  64,  65,\n",
              "        66,  67,  68,  69,  70,  71,  72,  73,  74,  75,  76,  77,  78,\n",
              "        79,  80,  81,  82,  83,  84,  85,  86,  87,  88,  89,  90,  91,\n",
              "        92,  93,  94,  95,  96,  97,  98,  99, 100]),\n",
              "                         'max_features': array([ 1,  2,  3,  4,  5,  6,  7,  8,  9, 10, 11])},\n",
              "             pre_dispatch='2*n_jobs', refit=True, return_train_score=False,\n",
              "             scoring=None, verbose=0)"
            ]
          },
          "metadata": {
            "tags": []
          },
          "execution_count": 152
        }
      ]
    },
    {
      "cell_type": "markdown",
      "metadata": {
        "id": "ME0xXvJMViLx",
        "colab_type": "text"
      },
      "source": [
        "Now, we can print the best parameters along with the accuracy."
      ]
    },
    {
      "cell_type": "code",
      "metadata": {
        "id": "CTexcUrhVq93",
        "colab_type": "code",
        "colab": {
          "base_uri": "https://localhost:8080/",
          "height": 35
        },
        "outputId": "68bcc659-a9b7-4704-f101-d34b67bcb1cd"
      },
      "source": [
        "print(f\"The best parameters are {grid.best_params_} with an accuracy of {grid.best_score_}\")"
      ],
      "execution_count": null,
      "outputs": [
        {
          "output_type": "stream",
          "text": [
            "The best parameters are {'max_depth': 8, 'max_features': 3} with an accuracy of 0.8938547486033519\n"
          ],
          "name": "stdout"
        }
      ]
    },
    {
      "cell_type": "markdown",
      "metadata": {
        "id": "buJNpMLCSrhq",
        "colab_type": "text"
      },
      "source": [
        "## New Predictions and Results\n",
        "Finally, we can build our Decision Tree Classifier model based on the tuned hyperparameters above."
      ]
    },
    {
      "cell_type": "code",
      "metadata": {
        "id": "2bvHSwg5Srhr",
        "colab_type": "code",
        "colab": {
          "base_uri": "https://localhost:8080/",
          "height": 121
        },
        "outputId": "3361a6ee-2bcc-4a54-fdf9-e33fd707acb0"
      },
      "source": [
        "# Build and fit the model based on the tuned parameters\n",
        "clf = DecisionTreeClassifier(max_depth=8, max_features=3, random_state=42)\n",
        "clf.fit(X_train, y_train)"
      ],
      "execution_count": null,
      "outputs": [
        {
          "output_type": "execute_result",
          "data": {
            "text/plain": [
              "DecisionTreeClassifier(ccp_alpha=0.0, class_weight=None, criterion='gini',\n",
              "                       max_depth=8, max_features=3, max_leaf_nodes=None,\n",
              "                       min_impurity_decrease=0.0, min_impurity_split=None,\n",
              "                       min_samples_leaf=1, min_samples_split=2,\n",
              "                       min_weight_fraction_leaf=0.0, presort='deprecated',\n",
              "                       random_state=42, splitter='best')"
            ]
          },
          "metadata": {
            "tags": []
          },
          "execution_count": 154
        }
      ]
    },
    {
      "cell_type": "code",
      "metadata": {
        "id": "QJNYeMkxSrh0",
        "colab_type": "code",
        "colab": {}
      },
      "source": [
        "# Making predictions\n",
        "new_pred = clf.predict(X_test)"
      ],
      "execution_count": null,
      "outputs": []
    },
    {
      "cell_type": "code",
      "metadata": {
        "id": "WhGpRAR8Srh5",
        "colab_type": "code",
        "colab": {
          "base_uri": "https://localhost:8080/",
          "height": 35
        },
        "outputId": "14930fae-c7c8-421c-bda8-552504533f89"
      },
      "source": [
        "# Measuring the accuracy of the model\n",
        "acc = accuracy_score(y_test, new_pred)\n",
        "acc"
      ],
      "execution_count": null,
      "outputs": [
        {
          "output_type": "execute_result",
          "data": {
            "text/plain": [
              "0.8794642857142857"
            ]
          },
          "metadata": {
            "tags": []
          },
          "execution_count": 156
        }
      ]
    },
    {
      "cell_type": "code",
      "metadata": {
        "id": "Tp-80xGjSrh_",
        "colab_type": "code",
        "colab": {
          "base_uri": "https://localhost:8080/",
          "height": 110
        },
        "outputId": "d0d6473b-fa92-4988-aa9b-6b104be3f737"
      },
      "source": [
        "# Create a Confusion Matrix\n",
        "matrix = pd.DataFrame(\n",
        "        confusion_matrix(y_test, new_pred),\n",
        "        columns=['Predicted 0', 'Predicted 1'],\n",
        "        index=['Actual 0', 'Actual 1'])\n",
        "matrix"
      ],
      "execution_count": null,
      "outputs": [
        {
          "output_type": "execute_result",
          "data": {
            "text/html": [
              "<div>\n",
              "<style scoped>\n",
              "    .dataframe tbody tr th:only-of-type {\n",
              "        vertical-align: middle;\n",
              "    }\n",
              "\n",
              "    .dataframe tbody tr th {\n",
              "        vertical-align: top;\n",
              "    }\n",
              "\n",
              "    .dataframe thead th {\n",
              "        text-align: right;\n",
              "    }\n",
              "</style>\n",
              "<table border=\"1\" class=\"dataframe\">\n",
              "  <thead>\n",
              "    <tr style=\"text-align: right;\">\n",
              "      <th></th>\n",
              "      <th>Predicted 0</th>\n",
              "      <th>Predicted 1</th>\n",
              "    </tr>\n",
              "  </thead>\n",
              "  <tbody>\n",
              "    <tr>\n",
              "      <th>Actual 0</th>\n",
              "      <td>177</td>\n",
              "      <td>5</td>\n",
              "    </tr>\n",
              "    <tr>\n",
              "      <th>Actual 1</th>\n",
              "      <td>22</td>\n",
              "      <td>20</td>\n",
              "    </tr>\n",
              "  </tbody>\n",
              "</table>\n",
              "</div>"
            ],
            "text/plain": [
              "          Predicted 0  Predicted 1\n",
              "Actual 0          177            5\n",
              "Actual 1           22           20"
            ]
          },
          "metadata": {
            "tags": []
          },
          "execution_count": 170
        }
      ]
    },
    {
      "cell_type": "code",
      "metadata": {
        "id": "3957YKgzSriG",
        "colab_type": "code",
        "colab": {
          "base_uri": "https://localhost:8080/",
          "height": 173
        },
        "outputId": "322e10a6-e0eb-45a9-fbc6-6a3230c4e6d6"
      },
      "source": [
        "# Create a classification report\n",
        "print(classification_report(y_test,new_pred))"
      ],
      "execution_count": null,
      "outputs": [
        {
          "output_type": "stream",
          "text": [
            "              precision    recall  f1-score   support\n",
            "\n",
            "           0       0.89      0.97      0.93       182\n",
            "           1       0.80      0.48      0.60        42\n",
            "\n",
            "    accuracy                           0.88       224\n",
            "   macro avg       0.84      0.72      0.76       224\n",
            "weighted avg       0.87      0.88      0.87       224\n",
            "\n"
          ],
          "name": "stdout"
        }
      ]
    },
    {
      "cell_type": "markdown",
      "metadata": {
        "id": "mVXYd6aySriJ",
        "colab_type": "text"
      },
      "source": [
        "Based on the new results above, it seems that our model has done a little better this time and the accuracy of the model is also slightly improved."
      ]
    }
  ]
}