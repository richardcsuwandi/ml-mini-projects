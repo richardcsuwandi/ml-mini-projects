{
 "cells": [
  {
   "cell_type": "markdown",
   "metadata": {},
   "source": [
    "## Decision Tree Classifier on Wine Dataset using CART Algorithm\n",
    "This project is one of my Machine Learning mini projects. For this project, we have a [wine](https://github.com/richardcsuwandi/datasets/blob/master/wine.csv) dataset that contains the quality of the wine along with different categories affecting its quality. The categories in the dataset, includes:\n",
    "\n",
    "1. fixed acidity: most acids involved with wine or fixed or nonvolatile (do not evaporate readily)\n",
    "2. volatile acidity: the amount of acetic acid in wine, which at too high of levels can lead to an unpleasant, vinegar taste\n",
    "3. citric acid: found in small quantities, citric acid can add 'freshness' and flavor to wines\n",
    "4. residual sugar: the amount of sugar remaining after fermentation stops, it's rare to find wines with less than 1 gram/liter and wines with greater than 45 grams/liter are considered sweet\n",
    "5. chlorides: the amount of salt in the wine\n",
    "6. free sulfur dioxide: the free form of SO2 exists in equilibrium between molecular SO2 (as a dissolved gas) and bisulfite ion; it prevents microbial growth and the oxidation of wine\n",
    "7. total sulfur dioxide: amount of free and bound forms of S02; in low concentrations, SO2 is mostly undetectable in wine, but at free SO2 concentrations over 50 ppm, SO2 becomes evident in the nose and taste of wine\n",
    "8. density: the density of water is close to that of water depending on the percent alcohol and sugar content\n",
    "9. pH: describes how acidic or basic a wine is on a scale from 0 (very acidic) to 14 (very basic); most wines are between 3-4 on the pH scale\n",
    "10. sulphates: a wine additive which can contribute to sulfur dioxide gas (S02) levels, wich acts as an antimicrobial and antioxidant\n",
    "11. alcohol: the percent alcohol content of the wine\n",
    "12. quality: output variable (based on sensory data, score between 0 and 10)\n",
    "\n",
    "The goal of this project is to create a Decision Tree Classifier model to classify whether the quality of the wine is above 6 or not using the CART algorithm."
   ]
  },
  {
   "cell_type": "code",
   "execution_count": 1,
   "metadata": {},
   "outputs": [],
   "source": [
    "# Importing the libraries\n",
    "import pandas as pd\n",
    "from sklearn.model_selection import train_test_split\n",
    "from sklearn.tree import DecisionTreeClassifier\n",
    "from sklearn.metrics import accuracy_score, confusion_matrix, classification_report"
   ]
  },
  {
   "cell_type": "markdown",
   "metadata": {},
   "source": [
    "## Loading the Data"
   ]
  },
  {
   "cell_type": "code",
   "execution_count": 2,
   "metadata": {},
   "outputs": [
    {
     "output_type": "execute_result",
     "data": {
      "text/plain": "   fixed acidity  volatile acidity  citric acid  residual sugar  chlorides  \\\n0            6.2              0.56         0.09             1.7      0.053   \n1           11.3              0.34         0.45             2.0      0.082   \n2            8.6              0.42         0.39             1.8      0.068   \n3            8.5              0.28         0.35             1.7      0.061   \n4            7.7              0.23         0.37             1.8      0.046   \n\n   free sulfur dioxide  total sulfur dioxide  density    pH  sulphates  \\\n0                 24.0                  32.0  0.99402  3.54       0.60   \n1                  6.0                  15.0  0.99880  2.94       0.66   \n2                  6.0                  12.0  0.99516  3.35       0.69   \n3                  6.0                  15.0  0.99524  3.30       0.74   \n4                 23.0                  60.0  0.99710  3.41       0.71   \n\n   alcohol  quality  \n0     11.3        5  \n1      9.2        6  \n2     11.7        8  \n3     11.8        7  \n4     12.1        6  ",
      "text/html": "<div>\n<style scoped>\n    .dataframe tbody tr th:only-of-type {\n        vertical-align: middle;\n    }\n\n    .dataframe tbody tr th {\n        vertical-align: top;\n    }\n\n    .dataframe thead th {\n        text-align: right;\n    }\n</style>\n<table border=\"1\" class=\"dataframe\">\n  <thead>\n    <tr style=\"text-align: right;\">\n      <th></th>\n      <th>fixed acidity</th>\n      <th>volatile acidity</th>\n      <th>citric acid</th>\n      <th>residual sugar</th>\n      <th>chlorides</th>\n      <th>free sulfur dioxide</th>\n      <th>total sulfur dioxide</th>\n      <th>density</th>\n      <th>pH</th>\n      <th>sulphates</th>\n      <th>alcohol</th>\n      <th>quality</th>\n    </tr>\n  </thead>\n  <tbody>\n    <tr>\n      <th>0</th>\n      <td>6.2</td>\n      <td>0.56</td>\n      <td>0.09</td>\n      <td>1.7</td>\n      <td>0.053</td>\n      <td>24.0</td>\n      <td>32.0</td>\n      <td>0.99402</td>\n      <td>3.54</td>\n      <td>0.60</td>\n      <td>11.3</td>\n      <td>5</td>\n    </tr>\n    <tr>\n      <th>1</th>\n      <td>11.3</td>\n      <td>0.34</td>\n      <td>0.45</td>\n      <td>2.0</td>\n      <td>0.082</td>\n      <td>6.0</td>\n      <td>15.0</td>\n      <td>0.99880</td>\n      <td>2.94</td>\n      <td>0.66</td>\n      <td>9.2</td>\n      <td>6</td>\n    </tr>\n    <tr>\n      <th>2</th>\n      <td>8.6</td>\n      <td>0.42</td>\n      <td>0.39</td>\n      <td>1.8</td>\n      <td>0.068</td>\n      <td>6.0</td>\n      <td>12.0</td>\n      <td>0.99516</td>\n      <td>3.35</td>\n      <td>0.69</td>\n      <td>11.7</td>\n      <td>8</td>\n    </tr>\n    <tr>\n      <th>3</th>\n      <td>8.5</td>\n      <td>0.28</td>\n      <td>0.35</td>\n      <td>1.7</td>\n      <td>0.061</td>\n      <td>6.0</td>\n      <td>15.0</td>\n      <td>0.99524</td>\n      <td>3.30</td>\n      <td>0.74</td>\n      <td>11.8</td>\n      <td>7</td>\n    </tr>\n    <tr>\n      <th>4</th>\n      <td>7.7</td>\n      <td>0.23</td>\n      <td>0.37</td>\n      <td>1.8</td>\n      <td>0.046</td>\n      <td>23.0</td>\n      <td>60.0</td>\n      <td>0.99710</td>\n      <td>3.41</td>\n      <td>0.71</td>\n      <td>12.1</td>\n      <td>6</td>\n    </tr>\n  </tbody>\n</table>\n</div>"
     },
     "metadata": {},
     "execution_count": 2
    }
   ],
   "source": [
    "wine = pd.read_csv('wine.csv', sep=', ', engine='python')  # The data is seperated by ', '\n",
    "wine.head()"
   ]
  },
  {
   "cell_type": "markdown",
   "metadata": {},
   "source": [
    "## Preprocessing the Data\n",
    "Since we are only interested in the quality of wine above 6 and otherwise, we can convert the values of the quality above 6 to 1 and otherwise to 0."
   ]
  },
  {
   "cell_type": "code",
   "execution_count": 21,
   "metadata": {},
   "outputs": [
    {
     "output_type": "execute_result",
     "data": {
      "text/plain": "0    0\n1    0\n2    1\n3    1\n4    0\nName: quality, dtype: int64"
     },
     "metadata": {},
     "execution_count": 21
    }
   ],
   "source": [
    "wine['quality'] = wine['quality'].apply(lambda x: 1 if x > 6 else 0)\n",
    "wine['quality'].head()"
   ]
  },
  {
   "cell_type": "markdown",
   "metadata": {},
   "source": [
    "## Building the Model\n",
    "Finally, we can build our Decision Tree Classifier model from the wine dataset"
   ]
  },
  {
   "cell_type": "code",
   "execution_count": 22,
   "metadata": {},
   "outputs": [],
   "source": [
    "# Declaring the features and the label\n",
    "features = wine.drop('quality', axis=1)\n",
    "label = wine['quality']"
   ]
  },
  {
   "cell_type": "code",
   "execution_count": 23,
   "metadata": {},
   "outputs": [],
   "source": [
    "# Split the data between training and test sets, in a 80:20 ratio\n",
    "X_train, X_test, y_train, y_test = train_test_split(features, label, test_size=0.2, random_state=1)"
   ]
  },
  {
   "cell_type": "code",
   "execution_count": 24,
   "metadata": {},
   "outputs": [
    {
     "output_type": "execute_result",
     "data": {
      "text/plain": "DecisionTreeClassifier(ccp_alpha=0.0, class_weight=None, criterion='gini',\n                       max_depth=None, max_features=None, max_leaf_nodes=None,\n                       min_impurity_decrease=0.0, min_impurity_split=None,\n                       min_samples_leaf=1, min_samples_split=2,\n                       min_weight_fraction_leaf=0.0, presort='deprecated',\n                       random_state=1, splitter='best')"
     },
     "metadata": {},
     "execution_count": 24
    }
   ],
   "source": [
    "# Build and fit the model\n",
    "clf = DecisionTreeClassifier(random_state=1)\n",
    "clf.fit(X_train, y_train)"
   ]
  },
  {
   "cell_type": "markdown",
   "metadata": {},
   "source": [
    "## Predictions and Evaluations"
   ]
  },
  {
   "cell_type": "code",
   "execution_count": 25,
   "metadata": {},
   "outputs": [],
   "source": [
    "# Making predictions\n",
    "pred = clf.predict(X_test)"
   ]
  },
  {
   "cell_type": "code",
   "execution_count": 26,
   "metadata": {},
   "outputs": [
    {
     "output_type": "execute_result",
     "data": {
      "text/plain": "0.875"
     },
     "metadata": {},
     "execution_count": 26
    }
   ],
   "source": [
    "# Measuring the accuracy of the model\n",
    "acc = accuracy_score(y_test, pred)\n",
    "acc"
   ]
  },
  {
   "cell_type": "code",
   "execution_count": 27,
   "metadata": {},
   "outputs": [
    {
     "output_type": "execute_result",
     "data": {
      "text/plain": "          Predicted 0  Predicted 1\nActual 0          170           12\nActual 1           16           26",
      "text/html": "<div>\n<style scoped>\n    .dataframe tbody tr th:only-of-type {\n        vertical-align: middle;\n    }\n\n    .dataframe tbody tr th {\n        vertical-align: top;\n    }\n\n    .dataframe thead th {\n        text-align: right;\n    }\n</style>\n<table border=\"1\" class=\"dataframe\">\n  <thead>\n    <tr style=\"text-align: right;\">\n      <th></th>\n      <th>Predicted 0</th>\n      <th>Predicted 1</th>\n    </tr>\n  </thead>\n  <tbody>\n    <tr>\n      <th>Actual 0</th>\n      <td>170</td>\n      <td>12</td>\n    </tr>\n    <tr>\n      <th>Actual 1</th>\n      <td>16</td>\n      <td>26</td>\n    </tr>\n  </tbody>\n</table>\n</div>"
     },
     "metadata": {},
     "execution_count": 27
    }
   ],
   "source": [
    "# Create a Confusion Matrix\n",
    "matrix = pd.DataFrame(\n",
    "        confusion_matrix(y_test, pred),\n",
    "        columns=['Predicted 0', 'Predicted 1'],\n",
    "        index=['Actual 0', 'Actual 1'])\n",
    "matrix"
   ]
  },
  {
   "cell_type": "code",
   "execution_count": 28,
   "metadata": {},
   "outputs": [
    {
     "output_type": "stream",
     "name": "stdout",
     "text": "precision    recall  f1-score   support\n\n           0       0.91      0.93      0.92       182\n           1       0.68      0.62      0.65        42\n\n    accuracy                           0.88       224\n   macro avg       0.80      0.78      0.79       224\nweighted avg       0.87      0.88      0.87       224\n\n"
    }
   ],
   "source": [
    "# Create a classification report\n",
    "print(classification_report(y_test,pred))"
   ]
  },
  {
   "cell_type": "markdown",
   "metadata": {},
   "source": [
    "Based on the results above, it seems like our model did pretty well but there is still a risk of overfitting. Hence, we can try and improve the results by pruning the tree and tuning the parameters for the classifier."
   ]
  },
  {
   "cell_type": "markdown",
   "metadata": {},
   "source": [
    "## Finding the Maximum Depth\n",
    "Here, we are going to prune our tree by tuning the maximum depth parameter. We will find the optimal depth that gives the highest accuracy for the classifier."
   ]
  },
  {
   "cell_type": "code",
   "execution_count": 29,
   "metadata": {},
   "outputs": [],
   "source": [
    "# Define a helper function to find the optimal depth\n",
    "\n",
    "def get_max_depth():\n",
    "    \"\"\"Returns the depth with the highest accuracy\"\"\"\n",
    "    best_depth = list()\n",
    "    best_acc = 0\n",
    "    max_range = 30\n",
    "\n",
    "    # Simulates the model with different depths within the max range\n",
    "    for i in range(1,max_range):\n",
    "        clf = DecisionTreeClassifier(max_depth=i, random_state=42)\n",
    "        clf.fit(X_train, y_train)\n",
    "        pred = clf.predict(X_test)\n",
    "        acc = accuracy_score(y_test, pred)\n",
    "        if acc > best_acc:\n",
    "            best_acc = acc\n",
    "            best_depth.append(i)\n",
    "\n",
    "    return best_depth.pop()  # Returns the last item of the list"
   ]
  },
  {
   "cell_type": "code",
   "execution_count": 30,
   "metadata": {},
   "outputs": [
    {
     "output_type": "execute_result",
     "data": {
      "text/plain": "12"
     },
     "metadata": {},
     "execution_count": 30
    }
   ],
   "source": [
    "best_depth = get_max_depth()\n",
    "best_depth"
   ]
  },
  {
   "cell_type": "markdown",
   "metadata": {},
   "source": [
    "## New Predictions and Results"
   ]
  },
  {
   "cell_type": "code",
   "execution_count": 31,
   "metadata": {},
   "outputs": [
    {
     "output_type": "execute_result",
     "data": {
      "text/plain": "DecisionTreeClassifier(ccp_alpha=0.0, class_weight=None, criterion='gini',\n                       max_depth=12, max_features=None, max_leaf_nodes=None,\n                       min_impurity_decrease=0.0, min_impurity_split=None,\n                       min_samples_leaf=1, min_samples_split=2,\n                       min_weight_fraction_leaf=0.0, presort='deprecated',\n                       random_state=42, splitter='best')"
     },
     "metadata": {},
     "execution_count": 31
    }
   ],
   "source": [
    "# Build and fit the model based on the tuned parameters\n",
    "clf = DecisionTreeClassifier(max_depth=best_depth, random_state=42)\n",
    "clf.fit(X_train, y_train)"
   ]
  },
  {
   "cell_type": "code",
   "execution_count": 32,
   "metadata": {},
   "outputs": [],
   "source": [
    "# Making predictions\n",
    "new_pred = clf.predict(X_test)"
   ]
  },
  {
   "cell_type": "code",
   "execution_count": 33,
   "metadata": {},
   "outputs": [
    {
     "output_type": "execute_result",
     "data": {
      "text/plain": "0.8928571428571429"
     },
     "metadata": {},
     "execution_count": 33
    }
   ],
   "source": [
    "# Measuring the accuracy of the model\n",
    "acc = accuracy_score(y_test, new_pred)\n",
    "acc"
   ]
  },
  {
   "cell_type": "code",
   "execution_count": 34,
   "metadata": {},
   "outputs": [
    {
     "output_type": "execute_result",
     "data": {
      "text/plain": "          Predicted 0  Predicted 1\nActual 0          172           10\nActual 1           14           28",
      "text/html": "<div>\n<style scoped>\n    .dataframe tbody tr th:only-of-type {\n        vertical-align: middle;\n    }\n\n    .dataframe tbody tr th {\n        vertical-align: top;\n    }\n\n    .dataframe thead th {\n        text-align: right;\n    }\n</style>\n<table border=\"1\" class=\"dataframe\">\n  <thead>\n    <tr style=\"text-align: right;\">\n      <th></th>\n      <th>Predicted 0</th>\n      <th>Predicted 1</th>\n    </tr>\n  </thead>\n  <tbody>\n    <tr>\n      <th>Actual 0</th>\n      <td>172</td>\n      <td>10</td>\n    </tr>\n    <tr>\n      <th>Actual 1</th>\n      <td>14</td>\n      <td>28</td>\n    </tr>\n  </tbody>\n</table>\n</div>"
     },
     "metadata": {},
     "execution_count": 34
    }
   ],
   "source": [
    "# Create a Confusion Matrix\n",
    "matrix = pd.DataFrame(\n",
    "        confusion_matrix(y_test, new_pred),\n",
    "        columns=['Predicted 0', 'Predicted 1'],\n",
    "        index=['Actual 0', 'Actual 1'])\n",
    "matrix"
   ]
  },
  {
   "cell_type": "code",
   "execution_count": 35,
   "metadata": {},
   "outputs": [
    {
     "output_type": "stream",
     "name": "stdout",
     "text": "precision    recall  f1-score   support\n\n           0       0.92      0.95      0.93       182\n           1       0.74      0.67      0.70        42\n\n    accuracy                           0.89       224\n   macro avg       0.83      0.81      0.82       224\nweighted avg       0.89      0.89      0.89       224\n\n"
    }
   ],
   "source": [
    "# Create a classification report\n",
    "print(classification_report(y_test,new_pred))"
   ]
  },
  {
   "cell_type": "markdown",
   "metadata": {},
   "source": [
    "Based on the new results above, it seems that our model has done a little better this time and the accuracy of the model is also improved."
   ]
  }
 ],
 "metadata": {
  "kernelspec": {
   "display_name": "Python 3.7.4 64-bit ('base': conda)",
   "language": "python",
   "name": "python37464bitbasecondae4d1925b83da41c78817766fdb596e37"
  },
  "language_info": {
   "codemirror_mode": {
    "name": "ipython",
    "version": 3
   },
   "file_extension": ".py",
   "mimetype": "text/x-python",
   "name": "python",
   "nbconvert_exporter": "python",
   "pygments_lexer": "ipython3",
   "version": "3.7.7-final"
  }
 },
 "nbformat": 4,
 "nbformat_minor": 4
}
